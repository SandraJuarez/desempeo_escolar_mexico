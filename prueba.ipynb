{
 "cells": [
  {
   "cell_type": "code",
   "execution_count": 19,
   "metadata": {},
   "outputs": [
    {
     "name": "stdout",
     "output_type": "stream",
     "text": [
      "   FOLIO  P1_1  P1_2_1  P1_2_2  P1_3  P1_4_1  P1_4_2  P1_4_3  P1_4_4  P1_4_5  \\\n",
      "0      2     4       2       2     1     1.0     1.0     1.0     1.0     1.0   \n",
      "1      2     4       2       2     1     1.0     1.0     1.0     1.0     1.0   \n",
      "2      7     7       3       4     1     2.0     2.0     1.0     2.0     1.0   \n",
      "3      7     7       3       4     1     2.0     2.0     1.0     2.0     1.0   \n",
      "4      9     5       3       2     1     1.0     1.0     1.0     1.0     1.0   \n",
      "5     11     4       2       2     1     1.0     1.0     1.0     2.0     1.0   \n",
      "6     14     5       3       2     1     2.0     1.0     1.0     1.0     1.0   \n",
      "7     14     5       3       2     1     2.0     1.0     1.0     1.0     1.0   \n",
      "8     14     5       3       2     1     2.0     1.0     1.0     1.0     1.0   \n",
      "9     15     4       2       2     1     2.0     1.0     2.0     2.0     1.0   \n",
      "\n",
      "   ...  PD3_1  PD3_2  PD3_3  ENT_y  NIVEL_A  GRADO_A  NIVEL_B  GRADO_B  ESC  \\\n",
      "0  ...    NaN    NaN    NaN     24      3.0      6.0      3.0      1.0  2.0   \n",
      "1  ...    7.0    NaN    NaN     24      9.0      1.0      8.0      2.0  5.0   \n",
      "2  ...    NaN    NaN    NaN     22      3.0      2.0      2.0      3.0  2.0   \n",
      "3  ...    1.0   40.0    8.0     22      NaN      NaN      NaN      NaN  4.0   \n",
      "4  ...    1.0   25.0    8.0     26      9.0      1.0      8.0      2.0  5.0   \n",
      "5  ...    7.0    NaN    NaN     26      NaN      NaN      NaN      NaN  5.0   \n",
      "6  ...    NaN    NaN    NaN     18      NaN      NaN      1.0      2.0  0.0   \n",
      "7  ...    NaN    NaN    NaN     18      3.0      5.0      2.0      6.0  2.0   \n",
      "8  ...    1.0   24.0    8.0     18      9.0      1.0      8.0      2.0  5.0   \n",
      "9  ...    7.0    NaN    NaN     18      9.0      2.0      8.0      3.0  5.0   \n",
      "\n",
      "   FACTOR_y  \n",
      "0       809  \n",
      "1       809  \n",
      "2       722  \n",
      "3       722  \n",
      "4       425  \n",
      "5       584  \n",
      "6       413  \n",
      "7       413  \n",
      "8       413  \n",
      "9       322  \n",
      "\n",
      "[10 rows x 115 columns]\n"
     ]
    }
   ],
   "source": [
    "import pandas as pd\n",
    "\n",
    "dfP=pd.read_csv('datos.csv')\n",
    "dfv=pd.read_csv('vivienda.csv')\n",
    "\n",
    "# merge dataframes based on id column\n",
    "dfd = pd.merge(dfv, dfP, on='FOLIO', how='inner')\n",
    "\n",
    "print(dfd.head(10))"
   ]
  },
  {
   "cell_type": "code",
   "execution_count": null,
   "metadata": {},
   "outputs": [],
   "source": []
  },
  {
   "cell_type": "code",
   "execution_count": null,
   "metadata": {},
   "outputs": [],
   "source": []
  },
  {
   "cell_type": "code",
   "execution_count": 20,
   "metadata": {},
   "outputs": [],
   "source": [
    "#dfd = dfd.dropna(thresh=dfd.shape[1]-15)\n",
    "values_nivel=[1,2,3,10,11,12] \n",
    "values_nivel2=[1,2,9,10,11]\n",
    "dfd=dfd[dfd.PA3_3_NIVEL.isin(values_nivel)==False] #quitamos los rows de los que van en kínder y primaria\n",
    "dfd=dfd[dfd.PA3_3_MODMAT!=1] #quitamos los rows de los que estuvieron en maternal\n",
    "dfd=dfd[dfd.PB3_5_MODMAT!=1] #quitamos los rows de los que se inscribieron a maternal\n",
    "dfd=dfd[dfd.PB3_5_NIVEL.isin(values_nivel2)==False]#quitamos a los que se inscribieron al kinder y a los que se inscribieron a maestría/doctorado\n",
    "dfd=dfd[dfd.PC3_1!=2]\n",
    "values_c=[1,2,5,6,7,8,9,10,11,12,13,14] #quitamos los que por motivos personales no se inscribieron\n",
    "dfd=dfd[dfd.PC3_6.isin(values_c)==False]\n",
    "#dfd=dfd[dfd.FILTRO_C!=1] #Quitamos a los que no estuvieron inscritos en el anterior ni en el siguiente\n",
    "dfd=dfd[dfd.PA3_6!=4]\n",
    "\n",
    "dfd.drop(columns=['PA3_3_MODMAT','PB3_5_MODMAT','FOLIO'],inplace=True)\n",
    "dfd['FILTRO_A']=dfd['FILTRO_A'].fillna(0) #SE CAMBIÓ DE ESCUELA\n",
    "dfd['FILTRO_B']=dfd['FILTRO_B'].fillna(0) #MENORES DE 17?\n",
    "dfd['FILTRO_C']=dfd['FILTRO_C'].fillna(0) #ABANDONO ESCOLAR?\n",
    "dfd['PA3_5']=dfd['PA3_5'].fillna(0) #razones por las que no concluyó\n",
    "dfd['PB3_4']=dfd['PB3_4'].fillna(0) #RAZPON POR LA QUE SE CAMBIÓ DE ESCUELA\n",
    "dfd[['PA3_3_NIVEL','PB3_5_NIVEL','PA3_3_BIMESTRE','PA3_3_TRIMESTRE','PA3_3_CUATRIMESTRE','PA3_3_SEMESTRE','PA3_3_ANIO','PB3_5_BIMESTRE','PB3_5_TRIMESTRE','PB3_5_CUATRIMESTRE','PB3_5_SEMESTRE','PB3_5_ANIO']]=dfd[['PA3_3_NIVEL','PB3_5_NIVEL','PA3_3_BIMESTRE','PA3_3_TRIMESTRE','PA3_3_CUATRIMESTRE','PA3_3_SEMESTRE','PA3_3_ANIO','PB3_5_BIMESTRE','PB3_5_TRIMESTRE','PB3_5_CUATRIMESTRE','PB3_5_SEMESTRE','PB3_5_ANIO']].fillna(0)\n",
    "dfd=dfd.fillna('NaN')\n"
   ]
  },
  {
   "cell_type": "code",
   "execution_count": 21,
   "metadata": {},
   "outputs": [],
   "source": [
    "dfd.drop(columns=['P3_2'],inplace=True)"
   ]
  },
  {
   "cell_type": "code",
   "execution_count": 22,
   "metadata": {},
   "outputs": [
    {
     "name": "stdout",
     "output_type": "stream",
     "text": [
      "14663\n"
     ]
    }
   ],
   "source": [
    "a=dfd['PA3_6'].to_numpy()\n",
    "b=dfd['PA3_7_2'].to_numpy()\n",
    "c=dfd['PA3_7_3'].to_numpy()\n",
    "d=dfd['PA3_4'].to_numpy() #SON LOS QUE NO TERMINARON EL AÑO POR BAJO DESEMPEÑO\n",
    "e=dfd['PB3_2'].to_numpy() #DEJAMOS LOS QUE RESPONDIERON QUE YA NO SE INSCRIBIERON AL SIGUIENTE POR BAJO DESEMPEÑO\n",
    "f=dfd['PC3_6'].to_numpy() #los que dejaron la escuela porque tuvieron bajo desempeño\n",
    "#dfd.drop(columns=['PA3_6','PA3_7_2','PA3_7_3','PA3_4','PB3_2'],inplace=True)\n",
    "print(d.shape[0])\n",
    "dfd.drop(columns=['PB3_7','PB3_8'],inplace=True) #QUITAMOS ESTAS DOS PORQUE LES FALTA LA MITAD DE LA DATA\n",
    "#EN ESTAS DOS de arriba PREGUNTABAN CUÁNTOS DÍAS VAN A LA ESCUEL Y POR QUÉ\n",
    "dfd.drop(columns=['NIVEL_A','GRADO_A','NIVEL_B','GRADO_B','ENT_y'],inplace=True)#estas preguntas estaban repetidas\n",
    "dfd.drop(columns=['FACTOR_x','FACTOR_y','N_REN'],inplace=True) #ESTAS COLUMNAS NO SE SABE QUÉ SON, NO LO INDICARON EN EL CATÁLOGO\n"
   ]
  },
  {
   "cell_type": "code",
   "execution_count": 23,
   "metadata": {},
   "outputs": [
    {
     "name": "stdout",
     "output_type": "stream",
     "text": [
      "nan 2433\n"
     ]
    }
   ],
   "source": [
    "import numpy as np\n",
    "total=d.shape[0]\n",
    "clase=np.zeros(total)\n",
    "contador =0\n",
    "contadornans=0\n",
    "for i in range(total):\n",
    "    if a[i]==1 or a[i]==2:\n",
    "        clase[i]=1\n",
    "        \n",
    "    elif b[i]==1:\n",
    "        clase[i]=1\n",
    "        \n",
    "    elif c[i]==1:\n",
    "        clase[i]=1\n",
    "        \n",
    "    elif d[i]==2:\n",
    "        clase[i]=1\n",
    "        \n",
    "    elif e[i]==3 or e[i]==5:\n",
    "        \n",
    "        clase[i]=1\n",
    "    elif f[i]==3 or f[i]==4:\n",
    "        clase[i]=1\n",
    "    elif a[i]==b[i]==c[i]==d[i]==e[i]==f[i]=='NaN':\n",
    "        clase[i]='NaN'\n",
    "        contadornans+=1\n",
    "    else:\n",
    "        clase[i]=0\n",
    "    \n",
    "\n",
    "print(sum(clase),contadornans)\n",
    "dfd.insert(0,'clase',clase)\n",
    "\n"
   ]
  },
  {
   "cell_type": "code",
   "execution_count": 24,
   "metadata": {},
   "outputs": [],
   "source": [
    "\n",
    "dfd['PB3_4'] = dfd['PB3_4'].fillna(0) #los que se cambiaron de escuela\n",
    "#porque a los mayores de 17 ya no les preguntaron las siguientes (las de si los ayudan los papás)\n",
    "dfd.loc[dfd['EDAD'] >= 17, 'PB3_13_7'] = 0\n",
    "dfd.loc[dfd['EDAD'] >= 17, 'PB3_13_6'] = 0\n",
    "dfd.loc[dfd['EDAD'] >= 17, 'PB3_13_5'] = 0\n",
    "dfd.loc[dfd['EDAD'] >= 17, 'PB3_13_4'] = 0\n",
    "dfd.loc[dfd['EDAD'] >= 17, 'PB3_13_3'] = 0\n",
    "dfd.loc[dfd['EDAD'] >= 17, 'PB3_13_2'] = 0\n",
    "dfd.loc[dfd['EDAD'] >= 17, 'PB3_13_1'] = 0\n",
    "dfd.loc[dfd['EDAD'] >= 17, 'PB3_14'] = 0\n",
    "dfd.loc[dfd['EDAD'] >= 17, 'PB3_15'] = 0\n",
    "\n",
    "#LOS QUE NO CUMPLEN CON EL FILTRO C, O SEA QUE SI ESTUVIERON INSCRITOS EN EL ANTERIOR Y SIGUEINTE\n",
    "dfd.loc[dfd['FILTRO_C']==0,['PC3_1','PC3_2','PC3_3_1','PC3_3_2','PC3_4','PC3_5','PC3_6','PC3_7','PC3_8']]=0\n",
    "dfd.loc[dfd['FILTRO_C']=='NaN',['PC3_1','PC3_2','PC3_3_1','PC3_3_2','PC3_4','PC3_5','PC3_6','PC3_7','PC3_8']]=0\n",
    "#PARA LOS QUE RETOMARÁN LA ESCUELA\n",
    "dfd.loc[dfd['FILTRO_C']==2,['PC3_1','PC3_3_1','PC3_3_2','PC3_4','PC3_5','PC3_6','PC3_7']]=0\n",
    "\n",
    "#PARA LOS QUE RESPONDIERON QUE NO TRABAJAN, LAS OTRAS PREGUNTAS NO APLICAN\n",
    "dfd.loc[dfd['FILTRO_D']==2,['PD3_1','PD3_2','PD3_3']]=0\n",
    "dfd.loc[(dfd['FILTRO_D']=='NaN') & (dfd['EDAD']<=14),['PD3_1','PD3_2','PD3_3']]=0\n",
    "\n",
    "\n",
    "\n",
    "\n"
   ]
  },
  {
   "cell_type": "code",
   "execution_count": 25,
   "metadata": {},
   "outputs": [
    {
     "name": "stdout",
     "output_type": "stream",
     "text": [
      "    clase  P1_1  P1_2_1  P1_2_2  P1_3  P1_4_1  P1_4_2  P1_4_3  P1_4_4  P1_4_5  \\\n",
      "1     0.0     4       2       2     1     1.0     1.0     1.0     1.0     1.0   \n",
      "3     1.0     7       3       4     1     2.0     2.0     1.0     2.0     1.0   \n",
      "4     0.0     5       3       2     1     1.0     1.0     1.0     1.0     1.0   \n",
      "8     0.0     5       3       2     1     2.0     1.0     1.0     1.0     1.0   \n",
      "9     0.0     4       2       2     1     2.0     1.0     2.0     2.0     1.0   \n",
      "10    0.0     4       2       2     1     2.0     1.0     2.0     2.0     1.0   \n",
      "11    NaN     5       1       4     1     2.0     1.0     1.0     2.0     1.0   \n",
      "12    0.0     5       1       4     1     2.0     1.0     1.0     2.0     1.0   \n",
      "14    0.0     7       4       3     1     2.0     1.0     1.0     1.0     1.0   \n",
      "15    0.0     7       4       3     1     2.0     1.0     1.0     1.0     1.0   \n",
      "\n",
      "    ...  PC3_5  PC3_6  PC3_7  PC3_8  FILTRO_D  PD3_1  PD3_2  PD3_3  ESC PC3_2  \n",
      "1   ...      0      0      0      0       1.0    7.0    NaN    NaN  5.0   0.0  \n",
      "3   ...   23.0    3.0    1.0    3.0       1.0    1.0   40.0    8.0  4.0   NaN  \n",
      "4   ...      0      0      0      0       1.0    1.0   25.0    8.0  5.0   0.0  \n",
      "8   ...      0      0      0      0       1.0    1.0   24.0    8.0  5.0   0.0  \n",
      "9   ...      0      0      0      0       1.0    7.0    NaN    NaN  5.0   0.0  \n",
      "10  ...      0      0      0      0       2.0      0      0      0  3.0   0.0  \n",
      "11  ...      0      0      0      0       1.0    7.0    NaN    NaN  5.0   0.0  \n",
      "12  ...      0      0      0      0       1.0    7.0    NaN    NaN  4.0   0.0  \n",
      "14  ...      0      0      0      0       1.0    7.0    NaN    NaN  3.0   0.0  \n",
      "15  ...      0      0      0      0       1.0    7.0    NaN    NaN  3.0   0.0  \n",
      "\n",
      "[10 rows x 103 columns]\n"
     ]
    }
   ],
   "source": [
    "print(dfd.head(10))"
   ]
  },
  {
   "cell_type": "code",
   "execution_count": 26,
   "metadata": {},
   "outputs": [
    {
     "name": "stdout",
     "output_type": "stream",
     "text": [
      "3365 8865\n",
      "3364 7882\n"
     ]
    }
   ],
   "source": [
    "grupos=dfd.groupby(['clase'])\n",
    "\n",
    "\n",
    "d1=pd.DataFrame(grupos.get_group(1))\n",
    "\n",
    "d2=pd.DataFrame(grupos.get_group(0))\n",
    "print(d1.shape[0],d2.shape[0])\n",
    "\n",
    "#rellenamos los valores faltantes donde preguntan si le ayudaron.\n",
    "#si respondieron que nadie les ayuda, rellenamos con un 2 las otras preguntas\n",
    "d1.loc[d1['PB3_13_7'] == 1, 'PB3_13_6'] = 2\n",
    "d1.loc[d1['PB3_13_7'] == 1, 'PB3_13_5'] = 2\n",
    "d1.loc[d1['PB3_13_7'] == 1, 'PB3_13_4'] = 2\n",
    "d1.loc[d1['PB3_13_7'] == 1, 'PB3_13_3'] = 2\n",
    "d1.loc[d1['PB3_13_7'] == 1, 'PB3_13_2'] = 2\n",
    "d1.loc[d1['PB3_13_7'] == 1, 'PB3_13_1'] = 2\n",
    "\n",
    "#para los que no concluyeron en algunos casos ya no preguntaron sobre los featues que seguían\n",
    "\n",
    "###################################################################################\n",
    "#####################################################################################\n",
    "######################################################################################\n",
    "#POR SI NO PREGUNTARON A LOS QUE NO CONCLUYERON LAS PARTES DE COMO SE INGRESA A LA ESCUELA\n",
    "d1.loc[d1['PA3_4']==2,'PB3_6']=0 #asistía a presencial ono?\n",
    "d1.loc[d1['PA3_4']==2,'PB3_3']=0 #la escuela es privada o no?\n",
    "d1.loc[d1['PA3_4']==2,'PA3_7_1']=0 #RECIBIÓ ASESORÍAS EXTRA?\n",
    "d1.loc[d1['PA3_4']==2,'PA3_2']=0 #PRIVADA?\n",
    "#METODOS DE EVALUACIÓN\n",
    "d1.loc[(d1['PA3_4']==2),\n",
    "       #(d1['PA3_8_1']=='NaN')&\n",
    "       #(d1['PA3_8_2']=='NaN')&\n",
    "       #(d1['PA3_8_3']=='NaN')&\n",
    "       #(d1['PA3_8_5']=='Nan')&\n",
    "       #(d1['PA3_8_6']=='NaN')&\n",
    "       #(d1['PA3_8_7']=='NaN')&\n",
    "       #(d1['PA3_8_8']=='NaN'),\n",
    "       ['PA3_8_1','PA3_8_2','PA3_8_3','PA3_8_4','PA3_8_5','PA3_8_6','PA3_8_7','PA3_8_8']]=0\n",
    "\n",
    "\n",
    "#PREGUNTAS SOBRE METODOS DE INGRESO A LA ESCUELA\n",
    "d1.loc[(d1['PA3_4']==2)&\n",
    "       (d1['PB3_9_1']=='NaN')&\n",
    "       (d1['PB3_9_2']=='NaN')&\n",
    "       (d1['PB3_9_3']=='NaN'),\n",
    "       ['PB3_9_1','PB3_9_2','PB3_9_3']]=0\n",
    "\n",
    "#MATERIAL QUE USAN SUS MAESTROS\n",
    "d1.loc[(d1['PA3_4']==2)&\n",
    "       (d1['PB3_10_1']=='NaN')&\n",
    "       (d1['PB3_10_2']=='NaN')&\n",
    "       (d1['PB3_10_3']=='NaN')&\n",
    "       (d1['PB3_10_4']=='NaN')&\n",
    "       (d1['PB3_10_5']=='NaN'),\n",
    "       ['PB3_10_1','PB3_10_2','PB3_10_3','PB3_10_4','PB3_10_5']]=0\n",
    "\n",
    "#MEDIOS PARA INFORMARLE DE SUS TAREAS\n",
    "d1.loc[(d1['PA3_4']==2)&\n",
    "       (d1['PB3_11_1']=='NaN')&\n",
    "       (d1['PB3_11_2']=='NaN')&\n",
    "       (d1['PB3_11_3']=='NaN')&\n",
    "       (d1['PB3_11_4']=='NaN')&\n",
    "       (d1['PB3_11_5']=='NaN'),\n",
    "       ['PB3_11_1','PB3_11_2','PB3_11_3','PB3_11_4','PB3_11_5']]=0\n",
    "\n",
    "#MATERIALES QUE USA PARA SUS TAREAS\n",
    "d1.loc[(d1['PA3_4']==2)&\n",
    "       (d1['PB3_12_1']=='NaN')&\n",
    "       (d1['PB3_12_2']=='NaN')&\n",
    "       (d1['PB3_12_3']=='NaN')&\n",
    "       (d1['PB3_12_4']=='NaN')&\n",
    "       (d1['PB3_12_5']=='NaN')&\n",
    "       (d1['PB3_12_6']=='NaN')&\n",
    "       (d1['PB3_12_7']=='NaN')&\n",
    "       (d1['PB3_12_8']=='NaN'),\n",
    "       ['PB3_12_1','PB3_12_2','PB3_12_3','PB3_12_4','PB3_12_5','PB3_12_6','PB3_12_7','PB3_12_8']]=0\n",
    "\n",
    "#¿LA PERSONA RECIBIO AYUDA de la familia?\n",
    "d1.loc[(d1['PA3_4']==2) &\n",
    "       (d1['PB3_13_1']=='NaN')&\n",
    "       (d1['PB3_13_2']=='NaN')&\n",
    "       (d1['PB3_13_3']=='NaN')&\n",
    "       (d1['PB3_13_4']=='NaN')&\n",
    "       (d1['PB3_13_5']=='NaN')&\n",
    "       (d1['PB3_13_6']=='NaN')&\n",
    "       (d1['PB3_13_7']=='NaN')&\n",
    "       (d1['PB3_15']=='NaN')&\n",
    "       (d1['PB3_14']=='NaN'),\n",
    "       ['PB3_13_1','PB3_13_2','PB3_13_3','PB3_13_4','PB3_13_5','PB3_13_6','PB3_13_7','PB3_14','PB3_15']]=0\n",
    "\n",
    "#¿cómo se siente de salud la persona?\n",
    "\n",
    "d1.loc[(d1['PA3_4']==2)&\n",
    "       (d1['PB3_16_1']=='NaN')&\n",
    "       (d1['PB3_16_2']=='NaN')&\n",
    "       (d1['PB3_16_3']=='NaN')&\n",
    "       (d1['PB3_16_4']=='NaN')&\n",
    "       (d1['PB3_16_5']=='NaN'),\n",
    "       ['PB3_16_1','PB3_16_2','PB3_16_3','PB3_16_4','PB3_16_5']]=0\n",
    "\n",
    "#####################################################################################################\n",
    "#################################################################################################\n",
    "###################################################################################################\n",
    "d1.loc[d1['FILTRO_C']==1,'PA3_2']=0 #la escuela es privada o no\n",
    "d1.loc[d1['FILTRO_C']==1,'PB3_3']=0 #la escuela es privada o no?\n",
    "d1.loc[d1['FILTRO_C']==1,'PB3_6']=0 #asiste a presencial ono?\n",
    "d1.loc[d1['FILTRO_C']==1,'PC3_8']=0 \n",
    "d1.loc[d1['FILTRO_C']==1,'PA3_7_1']=0 #RECIBIÓ ASESORÍAS EXTRA?\n",
    "#METODOS DE EVALUACIÓN\n",
    "d1.loc[(d1['FILTRO_C']==1),\n",
    "       #(d1['PA3_8_1']=='NaN')&\n",
    "       #(d1['PA3_8_2']=='NaN')&\n",
    "       #(d1['PA3_8_3']=='NaN')&\n",
    "       #(d1['PA3_8_5']=='Nan')&\n",
    "       #(d1['PA3_8_6']=='NaN')&\n",
    "       #(d1['PA3_8_7']=='NaN')&\n",
    "       #(d1['PA3_8_8']=='NaN'),\n",
    "       ['PA3_8_1','PA3_8_2','PA3_8_3','PA3_8_4','PA3_8_5','PA3_8_6','PA3_8_7','PA3_8_8']]=0\n",
    "\n",
    "\n",
    "#PREGUNTAS SOBRE METODOS DE INGRESO A LA ESCUELA\n",
    "d1.loc[(d1['FILTRO_C']==1) &\n",
    "       (d1['PB3_9_1']=='NaN')&\n",
    "       (d1['PB3_9_2']=='NaN')&\n",
    "       (d1['PB3_9_3']=='NaN'),\n",
    "       ['PB3_9_1','PB3_9_2','PB3_9_3']]=0\n",
    "\n",
    "#MATERIAL QUE USAN SUS MAESTROS\n",
    "d1.loc[(d1['FILTRO_C']==1) &\n",
    "       (d1['PB3_10_1']=='NaN')&\n",
    "       (d1['PB3_10_2']=='NaN')&\n",
    "       (d1['PB3_10_3']=='NaN')&\n",
    "       (d1['PB3_10_4']=='NaN')&\n",
    "       (d1['PB3_10_5']=='NaN'),\n",
    "       ['PB3_10_1','PB3_10_2','PB3_10_3','PB3_10_4','PB3_10_5']]=0\n",
    "\n",
    "#MEDIOS PARA INFORMARLE DE SUS TAREAS\n",
    "d1.loc[(d1['FILTRO_C']==1)&\n",
    "       (d1['PB3_11_1']=='NaN')&\n",
    "       (d1['PB3_11_2']=='NaN')&\n",
    "       (d1['PB3_11_3']=='NaN')&\n",
    "       (d1['PB3_11_4']=='NaN')&\n",
    "       (d1['PB3_11_5']=='NaN'),\n",
    "       ['PB3_11_1','PB3_11_2','PB3_11_3','PB3_11_4','PB3_11_5']]=0\n",
    "\n",
    "#MATERIALES QUE USA PARA SUS TAREAS\n",
    "d1.loc[(d1['FILTRO_C']==1)&\n",
    "       (d1['PB3_12_1']=='NaN')&\n",
    "       (d1['PB3_12_2']=='NaN')&\n",
    "       (d1['PB3_12_3']=='NaN')&\n",
    "       (d1['PB3_12_4']=='NaN')&\n",
    "       (d1['PB3_12_5']=='NaN')&\n",
    "       (d1['PB3_12_6']=='NaN')&\n",
    "       (d1['PB3_12_7']=='NaN')&\n",
    "       (d1['PB3_12_8']=='NaN'),\n",
    "       ['PB3_12_1','PB3_12_2','PB3_12_3','PB3_12_4','PB3_12_5','PB3_12_6','PB3_12_7','PB3_12_8']]=0\n",
    "\n",
    "#¿LA PERSONA RECIBIO AYUDA de la familia?\n",
    "d1.loc[(d1['FILTRO_C']==1) &\n",
    "       (d1['PB3_13_1']=='NaN')&\n",
    "       (d1['PB3_13_2']=='NaN')&\n",
    "       (d1['PB3_13_3']=='NaN')&\n",
    "       (d1['PB3_13_4']=='NaN')&\n",
    "       (d1['PB3_13_5']=='NaN')&\n",
    "       (d1['PB3_13_6']=='NaN')&\n",
    "       (d1['PB3_13_7']=='NaN')&\n",
    "       (d1['PB3_15']=='NaN')&\n",
    "       (d1['PB3_14']=='NaN'),\n",
    "       ['PB3_13_1','PB3_13_2','PB3_13_3','PB3_13_4','PB3_13_5','PB3_13_6','PB3_13_7','PB3_14','PB3_15']]=0\n",
    "\n",
    "#¿cómo se siente de salud la persona?\n",
    "\n",
    "d1.loc[(d1['FILTRO_C']==1)&\n",
    "       (d1['PB3_16_1']=='NaN')&\n",
    "       (d1['PB3_16_2']=='NaN')&\n",
    "       (d1['PB3_16_3']=='NaN')&\n",
    "       (d1['PB3_16_4']=='NaN')&\n",
    "       (d1['PB3_16_5']=='NaN'),\n",
    "       ['PB3_16_1','PB3_16_2','PB3_16_3','PB3_16_4','PB3_16_5']]=0\n",
    "\n",
    "###################################################################################\n",
    "#####################################################################################\n",
    "######################################################################################\n",
    "#METODOS DE EVALUACIÓN\n",
    "d1.loc[d1['FILTRO_C']==2,'PA3_2']=0 #la escuela es privada o no?\n",
    "d1.loc[d1['FILTRO_C']==2,'PB3_3']=0 #la escuela es privada o no?\n",
    "d1.loc[d1['FILTRO_C']==2,'PA3_7_1']=0 #RECIBIÓ ASESORÍAS EXTRA?\n",
    "d1.loc[d1['FILTRO_C']==2,'PB3_6']=0 #asiste a presencial o no?\n",
    "\n",
    "d1.loc[(d1['FILTRO_C']==2)&\n",
    "       (d1['PA3_8_1']=='NaN')&\n",
    "       (d1['PA3_8_2']=='NaN')&\n",
    "       (d1['PA3_8_3']=='NaN')&\n",
    "       (d1['PA3_8_5']=='Nan')&\n",
    "       (d1['PA3_8_6']=='NaN')&\n",
    "       (d1['PA3_8_7']=='NaN')&\n",
    "       (d1['PA3_8_8']=='NaN'),\n",
    "       ['PA3_8_1','PA3_8_2','PA3_8_3','PA3_8_4','PA3_8_5','PA3_8_6','PA3_8_7','PA3_8_8']]=0\n",
    "\n",
    "\n",
    "#PREGUNTAS SOBRE METODOS DE INGRESO A LA ESCUELA\n",
    "d1.loc[(d1['FILTRO_C']==2) &\n",
    "       (d1['PB3_9_1']=='NaN')&\n",
    "       (d1['PB3_9_2']=='NaN')&\n",
    "       (d1['PB3_9_3']=='NaN'),\n",
    "       ['PB3_9_1','PB3_9_2','PB3_9_3']]=0\n",
    "\n",
    "#MATERIAL QUE USAN SUS MAESTROS\n",
    "d1.loc[(d1['FILTRO_C']==2) &\n",
    "       (d1['PB3_10_1']=='NaN')&\n",
    "       (d1['PB3_10_2']=='NaN')&\n",
    "       (d1['PB3_10_3']=='NaN')&\n",
    "       (d1['PB3_10_4']=='NaN')&\n",
    "       (d1['PB3_10_5']=='NaN'),\n",
    "       ['PB3_10_1','PB3_10_2','PB3_10_3','PB3_10_4','PB3_10_5']]=0\n",
    "\n",
    "#MEDIOS PARA INFORMARLE DE SUS TAREAS\n",
    "d1.loc[(d1['FILTRO_C']==2)&\n",
    "       (d1['PB3_11_1']=='NaN')&\n",
    "       (d1['PB3_11_2']=='NaN')&\n",
    "       (d1['PB3_11_3']=='NaN')&\n",
    "       (d1['PB3_11_4']=='NaN')&\n",
    "       (d1['PB3_11_5']=='NaN'),\n",
    "       ['PB3_11_1','PB3_11_2','PB3_11_3','PB3_11_4','PB3_11_5']]=0\n",
    "\n",
    "#MATERIALES QUE USA PARA SUS TAREAS\n",
    "d1.loc[(d1['FILTRO_C']==2)&\n",
    "       (d1['PB3_12_1']=='NaN')&\n",
    "       (d1['PB3_12_2']=='NaN')&\n",
    "       (d1['PB3_12_3']=='NaN')&\n",
    "       (d1['PB3_12_4']=='NaN')&\n",
    "       (d1['PB3_12_5']=='NaN')&\n",
    "       (d1['PB3_12_6']=='NaN')&\n",
    "       (d1['PB3_12_7']=='NaN')&\n",
    "       (d1['PB3_12_8']=='NaN'),\n",
    "       ['PB3_12_1','PB3_12_2','PB3_12_3','PB3_12_4','PB3_12_5','PB3_12_6','PB3_12_7','PB3_12_8']]=0\n",
    "\n",
    "#¿LA PERSONA RECIBIO AYUDA de la familia?\n",
    "d1.loc[(d1['FILTRO_C']==2) &\n",
    "       (d1['PB3_13_1']=='NaN')&\n",
    "       (d1['PB3_13_2']=='NaN')&\n",
    "       (d1['PB3_13_3']=='NaN')&\n",
    "       (d1['PB3_13_4']=='NaN')&\n",
    "       (d1['PB3_13_5']=='NaN')&\n",
    "       (d1['PB3_13_6']=='NaN')&\n",
    "       (d1['PB3_13_7']=='NaN')&\n",
    "       (d1['PB3_15']=='NaN')&\n",
    "       (d1['PB3_14']=='NaN'),\n",
    "       ['PB3_13_1','PB3_13_2','PB3_13_3','PB3_13_4','PB3_13_5','PB3_13_6','PB3_13_7','PB3_14','PB3_15']]=0\n",
    "\n",
    "#¿cómo se siente de salud la persona?\n",
    "\n",
    "d1.loc[(d1['FILTRO_C']==2)&\n",
    "       (d1['PB3_16_1']=='NaN')&\n",
    "       (d1['PB3_16_2']=='NaN')&\n",
    "       (d1['PB3_16_3']=='NaN')&\n",
    "       (d1['PB3_16_4']=='NaN')&\n",
    "       (d1['PB3_16_5']=='NaN'),\n",
    "       ['PB3_16_1','PB3_16_2','PB3_16_3','PB3_16_4','PB3_16_5']]=0\n",
    "\n",
    "\n",
    "#d1.loc[(d1['PA3_4']==2)&(d1.loc[:,'PA3_8_1':'PA3_8_7']=='NaN'),'PA3_8_1':'PA3_8_7']=0\n",
    "d1.drop(columns=['PA3_6','PA3_7_2','PA3_7_3','PA3_4','PB3_2','PC3_6'],inplace=True)\n",
    "d2.drop(columns=['PA3_6','PA3_7_2','PA3_7_3','PA3_4','PB3_2','PC3_6'],inplace=True)\n",
    "d1=d1.replace('NaN',np.nan)\n",
    "d2=d2.replace('NaN',np.nan)\n",
    "d1= d1.dropna(thresh=d1.shape[1]-5)\n",
    "d2= d2.dropna(thresh=d2.shape[1]-5)\n",
    "d1=d1.fillna(0)\n",
    "d2=d2.fillna(0)\n",
    "d1.to_csv('burrotes.csv')\n",
    "print(d1.shape[0],d2.shape[0])\n",
    "\n",
    "\n"
   ]
  },
  {
   "cell_type": "code",
   "execution_count": null,
   "metadata": {},
   "outputs": [],
   "source": []
  },
  {
   "cell_type": "code",
   "execution_count": 27,
   "metadata": {},
   "outputs": [
    {
     "name": "stderr",
     "output_type": "stream",
     "text": [
      "C:\\Users\\52333\\AppData\\Local\\Temp\\ipykernel_9744\\697421036.py:1: FutureWarning: The frame.append method is deprecated and will be removed from pandas in a future version. Use pandas.concat instead.\n",
      "  dfd=d1.append(d2)\n"
     ]
    }
   ],
   "source": [
    "dfd=d1.append(d2)"
   ]
  },
  {
   "cell_type": "code",
   "execution_count": null,
   "metadata": {},
   "outputs": [],
   "source": [
    "\n"
   ]
  },
  {
   "cell_type": "code",
   "execution_count": 28,
   "metadata": {},
   "outputs": [
    {
     "data": {
      "text/plain": [
       "'\\nimport numpy as np\\n\\nsum([True for idx,row in dfd.iterrows() if any(row.isnull())])\\nnans_count=dfd.isna().sum()\\n#print(nans_count)\\n#print(dfd.columns)\\ncolumn_with_most_nans = np.argmax(nans_count)\\nprint(column_with_most_nans)\\nprint(dfd.columns[25])\\nprint(nans_count[20])\\n'"
      ]
     },
     "execution_count": 28,
     "metadata": {},
     "output_type": "execute_result"
    }
   ],
   "source": [
    "'''\n",
    "import numpy as np\n",
    "\n",
    "sum([True for idx,row in dfd.iterrows() if any(row.isnull())])\n",
    "nans_count=dfd.isna().sum()\n",
    "#print(nans_count)\n",
    "#print(dfd.columns)\n",
    "column_with_most_nans = np.argmax(nans_count)\n",
    "print(column_with_most_nans)\n",
    "print(dfd.columns[25])\n",
    "print(nans_count[20])\n",
    "'''"
   ]
  },
  {
   "cell_type": "code",
   "execution_count": 29,
   "metadata": {},
   "outputs": [],
   "source": [
    "\n",
    "\n",
    "dfd.to_csv('limpios.csv')"
   ]
  },
  {
   "cell_type": "code",
   "execution_count": 30,
   "metadata": {},
   "outputs": [
    {
     "data": {
      "text/plain": [
       "11246"
      ]
     },
     "execution_count": 30,
     "metadata": {},
     "output_type": "execute_result"
    }
   ],
   "source": [
    "dfd.shape[0]"
   ]
  },
  {
   "cell_type": "code",
   "execution_count": 31,
   "metadata": {},
   "outputs": [],
   "source": [
    "\n",
    "import numpy as np\n",
    "import pandas as pd\n",
    "import random\n",
    "from sklearn.neighbors import NearestNeighbors"
   ]
  },
  {
   "cell_type": "code",
   "execution_count": 32,
   "metadata": {},
   "outputs": [
    {
     "name": "stdout",
     "output_type": "stream",
     "text": [
      "[[   0 2958 1644 2995 1284]\n",
      " [   1 1882 3278 1496 1167]\n",
      " [   2  861  872 2803 1294]\n",
      " ...\n",
      " [3361 2468 1703 1629  187]\n",
      " [3362 2597 2873 1495 2931]\n",
      " [3363 1679 2409 1615  579]]\n"
     ]
    }
   ],
   "source": [
    "def nearest_neighbour(x):\n",
    "    nb=NearestNeighbors(n_neighbors=5,metric='euclidean',algorithm='kd_tree').fit(x)\n",
    "    distancia,indices=nb.kneighbors(x)\n",
    "    return indices\n",
    "x = d1[d1.columns[3:]].to_numpy()\n",
    "indices=nearest_neighbour(x)\n",
    "print(indices)\n"
   ]
  },
  {
   "cell_type": "code",
   "execution_count": 33,
   "metadata": {},
   "outputs": [
    {
     "data": {
      "text/plain": [
       "0.09928788444346448"
      ]
     },
     "execution_count": 33,
     "metadata": {},
     "output_type": "execute_result"
    }
   ],
   "source": [
    "r=random.random()\n",
    "r"
   ]
  },
  {
   "cell_type": "code",
   "execution_count": 34,
   "metadata": {},
   "outputs": [
    {
     "data": {
      "text/plain": [
       "array([[3., 1., 2., ..., 5., 4., 0.],\n",
       "       [1., 1., 1., ..., 0., 4., 0.],\n",
       "       [1., 1., 1., ..., 5., 5., 0.],\n",
       "       ...,\n",
       "       [2., 1., 2., ..., 5., 5., 0.],\n",
       "       [1., 1., 2., ..., 8., 4., 0.],\n",
       "       [3., 1., 1., ..., 8., 5., 0.]])"
      ]
     },
     "execution_count": 34,
     "metadata": {},
     "output_type": "execute_result"
    }
   ],
   "source": [
    "def SMOTE(x):\n",
    "    rows=x.shape[0]\n",
    "    indices=nearest_neighbour(x)\n",
    "    new=[]\n",
    "    for i in range (rows):\n",
    "        mult=random.random()\n",
    "        point_center=x[i,:]\n",
    "        ind=np.random.randint(1,4)\n",
    "        sx=int(indices[i,ind])\n",
    "        second_point=x[sx,:]\n",
    "        new_point=np.around(point_center+mult*(second_point-point_center))\n",
    "        new.append(new_point)\n",
    "    new=np.array(new)\n",
    "    return new\n",
    "\n",
    "new=SMOTE(x)\n",
    "new\n",
    "\n",
    "\n",
    "    "
   ]
  },
  {
   "cell_type": "code",
   "execution_count": 35,
   "metadata": {},
   "outputs": [
    {
     "name": "stdout",
     "output_type": "stream",
     "text": [
      "[1. 1. 1. ... 1. 1. 1.]\n",
      "827.1489361702128 827.4893617021277\n"
     ]
    }
   ],
   "source": [
    "print(x[:,1])\n",
    "\n",
    "promedio_original=sum(x[:,90])/x.shape[1]\n",
    "promedio_new=sum(new[:,90])/new.shape[1]\n",
    "print(promedio_original,promedio_new)"
   ]
  }
 ],
 "metadata": {
  "kernelspec": {
   "display_name": "Python 3",
   "language": "python",
   "name": "python3"
  },
  "language_info": {
   "codemirror_mode": {
    "name": "ipython",
    "version": 3
   },
   "file_extension": ".py",
   "mimetype": "text/x-python",
   "name": "python",
   "nbconvert_exporter": "python",
   "pygments_lexer": "ipython3",
   "version": "3.10.5"
  },
  "orig_nbformat": 4,
  "vscode": {
   "interpreter": {
    "hash": "204b973de28be2f053450059895fb876f6b1718ca01aa708473ad2968cb937fd"
   }
  }
 },
 "nbformat": 4,
 "nbformat_minor": 2
}
